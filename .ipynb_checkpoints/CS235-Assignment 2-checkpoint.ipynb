{
 "cells": [
  {
   "cell_type": "markdown",
   "metadata": {},
   "source": [
    "Audrey Der (861221280)\n",
    "\n",
    "Due: June 4, 2018\n",
    "\n",
    "Late Days Used: 1 (5 AM submission cutoff.)\n",
    "\n",
    "Late Days Remaining: 1\n",
    "\n",
    "# CS235: Assignment 2"
   ]
  },
  {
   "cell_type": "markdown",
   "metadata": {},
   "source": [
    "Import the necessary libraries. Findspark and pyspark are needed for [blank]. time and re are for spacing out requests (as per terms of use) for geopy, and for [blank], respectively."
   ]
  },
  {
   "cell_type": "code",
   "execution_count": 6,
   "metadata": {},
   "outputs": [],
   "source": [
    "import findspark\n",
    "findspark.init()\n",
    "from pyspark import SparkContext\n",
    "import re\n",
    "import time"
   ]
  },
  {
   "cell_type": "markdown",
   "metadata": {},
   "source": [
    "### Question 1:\n",
    "Before any mapping or reducing can take place, the tsv from Assignment 1 must be parsed. The tsv produced by `text_file = text_file.map(lambda line:split(\"\\t\")[2]) \\` was in the format of `[Conference Acronym \\t Conference Name \\t City]`. This was a counting question, so the key was the city and the value its frequency. The output is sorted in ascending order. __The rest of the questions were approached with a similar thought process.__"
   ]
  },
  {
   "cell_type": "code",
   "execution_count": null,
   "metadata": {},
   "outputs": [],
   "source": [
    "# reduce by key (city) and value is word count\n",
    "# sortBy is in descending order, add the parameter \"ascending=False\"\n",
    "try:\n",
    "    sc = SparkContext(\"local\", \"Simple App\")\n",
    "    text_file = sc.textFile(\"wikicfp_crawl-txt.tsv\") # parse\n",
    "    counts = text_file.map(lambda line: line.split(\"\\t\")[2]) \\\n",
    "        .map(lambda city: (city, 1)) \\\n",
    "        .reduceByKey(lambda a, b: a + b) \\\n",
    "        .sortBy(lambda x: x[1]) \n",
    "    output = counts.collect()\n",
    "    places = []\n",
    "    for (word, count) in output: \n",
    "        print(\"%s: %i\" % (city, count))\n",
    "        places.append(city)\n",
    "    print(\"Word Count: \" + str(len(places) - 1))\n",
    "finally:\n",
    "    sc.stop()"
   ]
  },
  {
   "cell_type": "markdown",
   "metadata": {},
   "source": [
    "### Question 2:"
   ]
  },
  {
   "cell_type": "code",
   "execution_count": null,
   "metadata": {},
   "outputs": [],
   "source": [
    "try:\n",
    "    sc = SparkContext(\"local\", \"Simple App\")\n",
    "    text_file = sc.textFile(\"wikicfp_crawl-txt.tsv\")\n",
    "    counts = text_file.map(lambda line: line.split(\"\\t\")) \\\n",
    "        .map(lambda city: (city[2], city[0])) \\\n",
    "        .reduceByKey(lambda a, b: a + \", \"+ b) \\\n",
    "        .sortBy(lambda x: x[1])\n",
    "    output = counts.collect()\n",
    "    places = []\n",
    "    for (city, conference) in output:\n",
    "        print(\"%s: %s\" % (city, conference))\n",
    "        places.append(conference)\n",
    "    print(\"Conference: \" + str(len(places) - 1))\n",
    "finally:\n",
    "    sc.stop()"
   ]
  },
  {
   "cell_type": "markdown",
   "metadata": {},
   "source": [
    "### Question 3:"
   ]
  },
  {
   "cell_type": "code",
   "execution_count": null,
   "metadata": {},
   "outputs": [],
   "source": [
    "try:\n",
    "    sc = SparkContext(\"local\", \"Simple App\")\n",
    "    text_file = sc.textFile(\"wikicfp_crawl-txt.tsv\")\n",
    "    counts = text_file.map(lambda line: line.split(\"\\t\")) \\\n",
    "        .map(lambda city: (re.sub('\\s\\d{4}', \"\", city[0]), city[2])) \\\n",
    "        .groupByKey()\n",
    "    output = counts.mapValues(list).collect()\n",
    "    conferences = []\n",
    "    for (city, conference) in output:\n",
    "        conference = list(set(conference))\n",
    "        print(\"%s: %s\" % (city, conference))\n",
    "        conferences.append(city)\n",
    "finally:\n",
    "    sc.stop()"
   ]
  },
  {
   "cell_type": "markdown",
   "metadata": {},
   "source": [
    "### Question 4:\n",
    "I first reduced by the year and then by the city to produce a list of tuples of the format `('year', dictionary{city, count})`."
   ]
  },
  {
   "cell_type": "code",
   "execution_count": 2,
   "metadata": {},
   "outputs": [
    {
     "name": "stdout",
     "output_type": "stream",
     "text": [
      "[('2011', {'Enschede, The Netherlands': 1, 'Hong Kong': 1, 'N/A': 1, 'Menlo Park, California, USA': 1, 'Seattle, Washington, USA': 7, 'Aizu-Wakamatsu, Japan': 1, 'Bangalore, Karnataka, India': 1, 'Bonn, Germany': 1, 'Vancouver, Canada': 2, 'Riga, Latvia': 1, 'Lisbon, Portugal': 2, 'Glasgow, Scotland, UK': 4, 'Kaohsiung, Taiwan': 1, 'Hsinchu City, Taiwan': 1, 'Berlin, Germany': 1, 'Beijing, China': 1, 'Milan, Italy': 1, 'Incheon, Korea': 1, 'Saint Petersburg, Russia': 1, 'Clermont-Ferrand, France': 1, 'Paris, France': 1, 'Varazdin, Croatia': 1, 'Dayton, Ohio, USA': 1, 'Toulouse, France': 2, 'Paphos, Cyprus': 1}), ('2012', {'N/A': 1, 'Brussels, Belgium': 1, 'Salt Lake City, Utah, USA': 1, 'Pune, India': 1, 'Paphos, Cyprus': 2, 'Pittsburgh, Pennslyvania, USA': 1, 'Maui, Hawaii, USA': 5, 'Macau, China': 1, 'Rome, Italy': 8, 'Rabat, Morocco': 1, 'Bangkok, Thailand': 1, 'San Jose, California, USA': 1, 'Istanbul, Turkey': 7, 'Gaithersburg, MD USA': 1, 'São Paulo, Brazil': 1, 'Montpellier, France': 1, 'Seoul, South Korea': 1, 'Prague, Czech Republic': 1, 'Instabul, Turkey': 1, 'Poznan, Poland': 1, 'Harbin, China': 2, 'Florence, Italy': 2, 'Marburg, Germany': 1, 'Venice, Italy': 2, 'Almería, Spain': 1, 'Las Vegas, Nevada, USA': 1, 'Vienna, Austria': 3, 'Poitiers, France': 1, 'Chania, Crete, Greece': 3, 'Toronto, Ontario, Canada': 1, 'Vilnius, Lithuania': 2, 'Scottsdale, AZ, United States': 1, 'Scottsdale, Arizona, USA': 5, 'Moscow, Russia': 1, 'Nantes, France': 2, 'Ouro Preto, Brazil': 1, 'Montreal, Québec, Canada': 1, 'Ustron, Poland': 1, 'Cambridge, Massachusetts, USA': 1, 'Busan, South Korea': 1, 'Bangalore, Karnataka, India': 1, 'Gifu, Japan': 1, 'Cambridge, UK': 1, 'Washington D.C., USA': 5, 'Beijing, China': 1, 'Reunion Island, France': 1, 'Penang, Malaysia': 1, 'Kaohsiung, Taiwan': 1, 'Melbourne, Australia': 1, 'Berlin, Germany': 1, 'Burlingame, California, USA': 1, 'Lyon, France': 1}), ('2013', {'N/A': 1, 'Zurich, Switzerland': 1, 'Rotterdam, Netherlands': 1, 'Kyoto, Japan': 1, 'Tumkur, India': 1, 'Kuala Lumpur, Malaysia': 3, 'Adelaide, South Australia, Australia': 1, 'Ahmedabad, India': 1, 'Łódź, Poland': 1, 'Dallas, Texas, USA': 2, 'Aksaray, Turkey': 1, 'San Jose, California, USA': 1, 'Washington D.C., USA': 1, 'San Francisco, California, USA': 3, 'Burlingame, California, USA': 1, 'Boston, Massachusetts, USA': 1, 'Veliko Tarnovo, Bulgaria': 1, 'Riva del Garda, Italy': 3, 'Trento, Italy': 3, 'Barcelona, Spain': 1, 'Beijing, China': 1, 'Sydney, Australia': 2, 'Graz, Austria': 1, 'Naiguatá, Venezuela': 4, 'Genoa, Italy': 9, 'Aalborg, Denmark': 1, 'Islamabad, Pakistan': 1, 'Prague, Czech Republic': 3, 'Amantea, Calabria, Italy': 1, 'Vancouver, Canada': 1, 'Roccella Ionica, Italy': 1, 'Koblenz, Germany': 1, 'New York City, New York, USA': 8, 'Mathematics in Computer Science': 1, 'Craiova, Romania': 1, 'Paris, France': 1, 'Oxford, UK': 2, 'Lago Di Garda, Trento, Italy': 1, 'Munich, Germany': 1, 'Opatija, Croatia': 1, 'Montreal, Québec, Canada': 1, 'Irbid, Jordan': 1, 'Santa Clara, California, USA': 1, 'Cholula, Puebla, Mexico': 1, 'Kazan, Russia': 1, 'Magdeburg, Germany': 1, 'Ustron, Poland': 1, 'Aizu-Wakamatsu, Japan': 1, 'Brisbane, Australia': 4, 'New York, USA': 1, 'Wuhan, Hubei, China': 1, 'Havana, Cuba': 1, 'Coimbra, Portugal': 2, 'Stuttgart, Germany': 1, 'Asilomar, California, USA': 1}), ('2014', {'N/A': 2, 'Antwerp, Belgium': 1, 'Washington D.C., USA': 2, 'Hyderabad, India': 1, 'Kaohsiung, Taiwan': 1, 'London': 1, 'Odisha, India': 1, 'Shenzhen, China': 2, 'Amantea, Italy': 1, 'Ho Chi Minh City, Vietnam': 1, 'Haifa, Israel': 1, 'Hangzhou, China': 2, 'Los Cabos, Mexico': 1, 'Stuttgart, Germany': 1, 'Ohrid, Republic of Macedonia': 2, 'Oldenburg, Lower Saxony, Germany': 1, 'Curitiba, Brazil': 1, 'Cadiz, Spain': 1, 'Changsha, China': 1, 'Warsaw, Poland': 1, 'Songbird, Utah, USA': 1, 'Snowbird, Utah, USA': 8, 'Munich, Germany': 4, 'Sorrento Coast, Italy': 1, 'Macau, China': 1, 'Vienna, Austria': 1, 'Tallinn, Estonia': 2, 'Hasselt, Belgium': 1, 'Lisbon, Portugal': 1, 'Veliky Novgorod, Russia': 1, 'Brisbane, Australia': 2, 'Barcelona, Spain': 1, 'Irbid, Jordan': 1, 'Seoul, South Korea': 1, 'Ustron, Poland': 1, 'Aizu-Wakamatsu, Japan': 1, 'Chicago, Illinois, USA': 5, 'Athens, Greece': 6, 'Dubai, UAE': 1, 'Tainan, Taiwan': 1, 'Bordeaux, France': 1, 'Auckland, New Zealand': 1}), ('2015', {'Atlantic City, NJ, USA': 2, 'Melbourne, Australia': 3, 'N/A': 2, 'Glasgow, UK': 1, 'Paris, France': 1, 'Quebec, Canada': 1, 'Poitiers, France': 2, 'Łódź, Poland': 1, 'Santa Fe, New Mexico, USA': 1, 'Seoul, South Korea': 1, 'Valencia, Spain': 1, 'Kohala Coast, Hawaii, USA': 1, 'London, UK': 1, 'Brussels, Belgium': 1, 'Amman, Jordan': 1, 'Ustron, Poland': 1, 'Hanoi, Vietnam': 1}), ('2016', {'N/A': 4, 'Mashhad, Iran': 1, 'Online': 1, 'Washington D.C., USA': 3, 'Hamilton, New Zealand': 1, 'Quito, Ecuador': 1, 'Chengdu, Sichuan, China': 4, 'Athens, Greece': 1, 'Łódź, Poland': 1, 'Gran Canaria, Spain': 1, 'Barcelona, Spain': 5, 'Gold Coast, Australia': 1, 'Indianapolis, Indiana, USA': 1, 'California': 1, 'Milan, Italy': 1, 'Guayaquil, Ecuador': 1, 'Seoul, South Korea': 1, 'Stony Brook, New York, USA': 1, 'New Delhi, India': 2, 'Rio de Janeiro, Brazil': 1, 'Santa Clara, California, USA': 1, 'Tokyo, Japan': 1, 'Suzhou, China': 1, 'Brindisi, Italy': 1, 'Nörten-Hardenberg, Germany': 1, 'Gifu, Japan': 1, 'Riga, Latvia': 1, 'Ustron, Poland': 1, 'Dallas, Texas, USA': 1, 'Helsinki, Finland': 1, 'Pune, India': 1, 'San Francisco, California, USA': 1}), ('2017', {'N/A': 24, 'Thessaloniki, Greece': 1, 'London, UK': 3, 'Boston, Massachusetts, USA': 8, 'Kansas City, Missouri, USA': 1, 'Jaipur, India': 4, 'Chengdu, Sichuan, China': 1, 'Singapore': 7, 'Redondo Beach, California, USA': 2, 'Helsinki, Finland': 2, 'Taipei, Taiwan': 2, 'Puebla, Mexico': 1, 'New Orleans, Louisiana, USA': 18, 'Kolkata, India': 2, 'Quito, Ecuador': 2, 'Austin, Texas, USA': 3, 'Rome, Italy': 1, 'Adelaide, Australia': 1, 'Bangkok, Thailand': 1, 'Seoul, South Korea': 4, 'India': 2, 'Deir El-Balah, Palestine': 1, 'Los Angeles, California, USA': 2, 'Skopje, Macedonia': 10, 'Halifax, Nova Scotia, Canada': 31, 'Hammamet, Tunisia': 2, 'Brunei': 3, 'Jalan Tungku Link, Mukim Gadong A, Brunei': 1, 'Xi’an, Shaanxia, China': 2, 'Chongqing, China': 1, 'Fukuoka, Japan': 3, 'Yokohama, Japan': 1, 'Guilin, Guanxi, China': 2, 'Genoa, Italy': 4, 'Astrophysical Journal - Supplement Serie': 1, 'Tokyo, Japan': 8, 'Kyoto, Japan': 3, 'Lund, Sweden': 1, 'Melbourne, Australia': 12, 'Hefei, China': 1, 'Druskininkai, Lithuania': 1, 'Valparaiso, Chile': 1, 'San Diego, California, USA': 6, 'Benicàssim, Spain': 2, 'Jakarta, Indonesia': 3, 'Moscow, Russia': 3, 'Las Vegas, Nevada, USA': 1, 'Vienna, Austria': 2, 'Leipzig, Germany': 1, 'Marseille, France': 1, 'Porto, Portugal': 5, 'Beijing, China': 7, 'Atlanta, GA, US': 2, 'San Francisco, California, USA': 3, 'Trieste, Italy': 3, 'Banff, Canada': 1, 'Lisbon, Portugal': 1, 'Vietnam': 1, 'Exeter, England': 2, 'Cairo, Egypt': 2, 'Olsztyn, Poland': 1, 'Emden, Germany': 1, 'Lyon, France': 2, 'Guangzhou, China': 2, 'Poznan, Poland': 1, 'TBD': 4, 'Indianapolis, Indiana, USA': 1, 'Madrid, Spain': 3, 'Galway, Ireland': 1, 'Raleigh, North Carolina, USA': 4, 'Naples, Italy': 1, 'Vilamoura, Algarve, Portugal': 3, 'Logroño, La Rioja, Spain': 1, 'La Rioja, Spain': 1, 'Warsaw, Poland': 2, 'São Paulo, Brazil': 1, 'Houston, Texas, USA': 1, 'Donostia, San Sebastián, Spain': 1, 'Perth, Australia': 4, 'Online': 1, 'Orlando, Florida, USA': 1, 'New York City, New York, USA': 1, 'Tianjin, China': 1, 'Mauritius': 1, 'Polanica Zdroj, Poland': 1, 'Gaza, Palestine': 1, 'Aberdeen, Scotland, UK': 1, 'Texas, USA': 1, 'Salzburg, Austria': 1, 'Belgaum, Goa': 1, 'Suzhou, China': 4, 'Arras, France': 1, 'Cambridge, Massachusetts, USA': 2, 'Ustron, Poland': 2, 'Barcelona, Spain': 2, 'Anchorage, Alaska, USA': 1, 'Madeira': 1, 'Marco Island, Florida, USA': 2, 'Cambridge, UK': 1, 'Toulouse, France': 1, 'Riga, Latvia': 1, 'Jeju Island, Korea': 1, 'Kanazawa, Japan': 2, 'Washington D.C., USA': 1, 'Marrakesh, Morocco': 2, 'Luxembourg': 2, 'Uberlandia, Minas Gerais, Brazil': 1, 'Chemnitz, Germany': 1, 'Mons, Belgium': 1, 'Nicosia, Cyprus': 2, 'Bristol, UK': 1, 'Hilton Hotel Cyprus, Nicosia': 1, 'Chicago, Illinois, USA': 1, 'Stuttgart, Germany': 1, 'Irvine, California, USA': 1, 'Long Beach, California, USA': 5, 'Lomé, Togo': 3, 'Napoli, Italy': 1, 'Europe': 1, 'Bloemfontein, South Africa': 1, 'Tampere, Finland': 1, 'Denver, Colorado, USA': 1, 'Changa, Anand, India': 2, 'Pisa, Italy': 1, 'Cancun, Mexico': 2, 'Liverpool, United Kingdom': 1, 'IDRBT, Hyderabad, India': 1, 'Ulyanovsk, Russia': 1, 'Dresden, Germany': 1, 'Venice, Italy': 2, 'Miami, Florida, USA': 1, 'Delft, The Netherlands': 1, 'Sydney, Australia': 2, 'Honolulu, Hawaii, USA': 2, 'Montreal, Québec, Canada': 2, 'Dalian, China': 1, 'Shanghai, China': 1, 'Gangtok, Sikkim, India': 1, 'Okinawa, Japan': 1, 'Cuba': 1, 'Graz, Austria': 1, 'Nanjing, China': 2, 'Bali, Indonesia': 1, 'Quebec City, Quebec, Canada': 2, 'Quebec, Canada': 1, 'Daegu, South Korea': 1, 'Tucson, Arizona, USA': 1, 'Reggio di Calabria, Italy': 3, 'Hangzhou, China': 1, 'Caen, France': 1, 'Roppongi, Tokyo, Japan': 1, 'Prague, Czech Republic': 2, 'Dubai, UAE': 1, 'Orléans, France': 1, 'Toronto, Ontario, Canada': 1, 'Vancouver, Canada': 1, 'Hawaii, USA': 1, 'Yangon, Myanmar': 1, 'Edmonton, Alberta': 1, 'Niagara Falls, New York, USA': 1, 'Saarbrücken, Germany': 1, 'Milan, Italy': 1, 'Copenhagen, Denmark': 1, 'Heraklion, Crete, Greece': 1, 'Winterthur, Switzerland': 1, 'Alghero, Sardinia, Italy': 1, 'Volterra, Tuscany, Italy': 1, 'Capri, Italy': 1, 'Timisoara, Romania': 1, 'Wuhan, Hubei, China': 1, 'Limassol, Cyprus': 1}), ('2018', {'Dubai, UAE': 18, 'Taranto, Italy': 1, 'Vienna, Austria': 6, 'N/A': 124, 'South Carolina, USA': 1, 'Poznan, Poland': 6, 'Beijing, China': 13, 'Moscow, Russia': 2, 'Chennai, India': 9, 'Sydney, Australia': 18, 'Copenhagen, Denmark': 4, 'London, UK': 14, 'London': 7, 'Exeter, England': 1, 'Singapore': 24, 'Barcelona, Spain': 9, 'Lima, Peru': 3, 'Chongqing, China': 4, 'Chengdu, Sichuan, China': 20, 'Zakynthos, Greece': 1, 'Vilnius, Lithuania': 2, 'Weihai, China': 2, 'China': 5, 'Valencia, Spain': 1, 'Brunei': 1, 'Madrid, Spain': 3, 'Arlington, Texas, USA': 2, 'Essex, UK': 1, 'Cala Millor, Majorca, Spain': 1, 'Nagoya, Japan': 8, 'Berlin, Germany': 6, 'Valletta, Malta': 1, 'Bathurst, New South Wales, Australia': 3, 'Coimbra, Portugal': 2, 'Łódź, Poland': 1, 'Hong Kong': 10, 'Shanghai, China': 12, 'Belgrade, Serbia': 3, 'Las Vegas, Nevada, USA': 4, 'Melbourne, Australia': 10, 'Romania, Iasi': 1, 'Orléans, France': 2, 'Dublin, Ireland': 5, 'Bali, Indonesia': 2, 'Paderborn, Germany': 2, 'Crete, Greece': 1, 'New York, USA': 7, 'Brno, Czech Republic': 1, 'Hangzhou, China': 4, 'Guilin, Guanxi, China': 1, 'Bangkok, Thailand': 9, 'Athens, Greece': 5, 'France': 1, 'Marrakesh, Morocco': 7, 'Paris, France': 9, 'Guangzhou, China': 6, 'Gold Coast, Australia': 1, 'Porto, Portugal': 6, 'Shenzhen, China': 3, 'Jyvaskyla, Finland': 1, 'Thessaloniki, Greece': 4, 'Cologne, Germany': 1, 'Buffalo, New York, United': 2, 'Prague, Czech Republic': 4, 'Enschede, The Netherlands': 1, 'Macau, China': 7, 'Toledo, Spain': 5, 'San Diego, California, USA': 10, 'Florida, USA': 1, 'Rio de Janeiro, Brazil': 9, 'Olomouc, Czech Republic': 1, 'Grenoble, France': 3, 'Lyon, France': 9, 'Guiyang, China': 1, 'DeKalb, Illinois, USA': 2, 'Rhodes Island, Greece': 2, 'Honolulu, Hawaii, USA': 1, 'Istanbul, Turkey': 3, 'Riyadh, Saudi Arabia': 1, 'Bergamo, Italy': 1, 'Bamberg, Germany': 1, 'Los Angeles, California, USA': 5, 'Kolkata, India': 2, 'Melbourne, Florida, USA': 4, 'Funchal, Madeira, Portugal': 5, 'Casablanca, Morocco': 2, 'Dong Hoi City, Vietnam': 3, 'Pau, France': 3, 'Santiago, Chile': 3, 'Warsaw, Poland': 1, 'Bucarest, Romania': 1, 'Xi’an, Shaanxia, China': 5, 'Budapest, Hungary': 7, 'Cali, Colombia': 1, 'Athens': 2, 'Stockholm, Sweden': 23, 'Salt Lake City, Utah, USA': 10, 'Nottingham, UK': 2, 'Newcastle, UK': 1, 'Toulon, Cote D’Azur, France': 2, 'Hamburg, Germany': 3, 'Niagara Falls, Ontario, Canada': 1, 'Fragrance Hill, Beijing': 2, 'Leipzig, Germany': 2, 'island of Rhodes, Greece': 2, 'Union, New Jersey, USA': 2, 'São Paulo, Brazil': 2, 'Hanoi, Vietnam': 9, 'Guadalajara, Mexico': 4, 'Havana, Cuba': 4, 'Trujillo, Peru': 4, 'Torino, Italy': 2, 'Saint Petersburg, Russia': 3, 'Boulder, Colorado, USA': 1, 'Nanjing, China': 3, 'Granada, Spain': 1, 'Daegu, South Korea': 1, 'Santa Fe, Argentina': 2, 'Munich, Germany': 5, 'Chicago, Illinois, USA': 1, 'Anaheim, California, USA': 1, 'Tampere, Finland': 1, 'Zurich, Switzerland': 1, 'Pyrgos, Limassol, Cyprus': 1, 'Jeju Island, Korea': 4, 'Stuttgart, Germany': 1, 'Nairobi, Kenya': 2, 'Mazatlan, Sinaloa, México': 1, 'Bangalore, Karnataka, India': 1, 'Ho Chi Minh City, Vietnam': 3, 'Kosice': 2, 'Baltimore, Maryland, USA': 1, 'St. Louis, Missouri, USA': 1, 'Stanford, California, USA': 3, 'Tempe, Arizona, USA': 2, 'Natal, Brazil': 1, 'Salerno, Italy': 1, 'Tokyo, Japan': 5, 'Wroclaw, Poland': 2, 'Jinan, China': 4, 'Siena, Italy': 1, 'Volterra, Tuscany, Italy': 1, 'Oxford, UK': 3, 'Caen, France': 2, 'Kyoto, Japan': 4, 'Osaka, Japan': 2, 'Seattle, Washington, USA': 3, 'Brisbane, Australia': 3, 'Nanjing and Tai’an, China': 1, 'Maastricht, The Netherlands': 2, 'Montreal, Québec, Canada': 6, 'Monterey, California, USA': 5, 'Williamsburg, Virginia, USA': 5, 'New Orleans, Louisiana, USA': 6, 'Belfast, Northern Ireland, UK': 3, 'Online': 1, 'Calgary, Alberta, Canada': 1, 'Vancouver, Canada': 5, 'Ischia, Italy': 1, 'Stevenson, Washington, USA': 1, 'Chicago': 1, 'Pune, India': 1, 'Kenitra, Morocco': 1, 'Phuket Island, Thailand': 6, 'Campobasso, Italy': 1, 'Kalamata, Greece': 1, 'North Bethesda, Maryland, USA': 1, 'San Francisco, California, USA': 3, 'Liverpool, United Kingdom': 2, 'Rabat, Morocco': 2, 'St., Missouri, USA': 1, 'Naples, Italy': 2, 'Phuoc Island, Vietnam': 2, 'Valenciennes, France': 2, 'Kuantan, Malaysia': 2, 'Xiamen, China': 1, 'Bruges, Belgium': 2, 'Lausanne, Switzerland': 2, 'Zakopane, Poland': 2, 'New York City, New York, USA': 3, 'Lanzarote, Spain': 1, 'Playa Blanca, Lanzarote': 2, 'Cairo, Egypt': 1, 'Wuhan, Hubei, China': 3, 'Luxembourg': 3, 'Changchun, China': 1, 'Wellington, New Zealand': 1, 'Lanzhou, China': 1, 'Raitenhaslach, Germany': 1, 'Nice, France': 1, 'Basel, Switzerland': 1, 'Penang, Malaysia': 1, 'Sankt Augustin, Germany': 1, 'Bari, Italy': 1, 'Nha Trang, Vietnam': 1, 'Volos, Greece': 1, 'Changsha, China': 1, 'Luton, England': 1, 'Matsue, Japan': 1, 'Trento, Italy': 1, 'New Taipei City, Taiwan': 2, 'USA': 1, 'Laguna Hills, California, USA': 1, 'Mangalore, India': 2, 'Amsterdam, Netherlands': 3, 'Danang, Vietnam': 1, 'Bologna, Italy': 1, 'Ceske Budejovice, Czech Republic': 1, 'London and Singapore': 1, 'Cambridge, UK': 1, 'Galway, Ireland': 1, 'Kuala Lumpur, Malaysia': 4, 'Aqaba, Jordan': 1, 'Międzyzdroje, Poland': 1, 'Taormina-Sicily, Italy': 1, 'Bilbao': 1, 'Palermo, Sicily, Italy': 1, 'Genoa, Italy': 1, 'Hefei, China': 1, 'Bristol, UK': 2, 'Hotel Bangi-Putrajaya, Kuala Lumpur, Mal': 1, 'Caceres, Spain': 1, 'Tallinn, Estonia': 1, 'Edinburgh, UK': 1, 'Exeter, UK': 1, 'Bacau, Romania': 1, 'Salamanca, Spain': 1, 'Amiens, France': 1, 'Spokane, Washington, USA': 1, 'Rostov-on-Don, Russia': 1, 'Auckland, New Zealand': 1, 'Online and Tokyo, Japan': 1, 'Ottawa, Ontario, Canada': 1, 'Silchar, India': 1, 'Aldemar Amilia Mare, Rhodes': 1, 'Sheffield, UK': 1, 'Reggio di Calabria, Italy': 1, 'Minsk, Belarus': 1, 'Maldives': 1, 'Malaysia': 1, 'Chiang Mai, Thailand': 1, 'Krakow, Poland': 1, 'www.radioai.net': 1, 'Cadiz, Spain': 1, 'Delft, The Netherlands': 1, 'Porto Santo, Madeira, Portugal': 1, 'Manila, Philippines': 2, 'Merida, Mexico': 1, 'Vichy, France': 1}), ('2019', {'Los Angeles, California, USA': 1, 'Amsterdam': 1, 'Salvador, Bahia, Brazil': 1, 'Guangzhou, China': 1, 'Da Lat, Vietnam': 2, 'Lille, France': 2, 'Concepción, Chile': 1, 'N/A': 2, 'Xiamen, China': 1})]\n"
     ]
    }
   ],
   "source": [
    "from collections import Counter\n",
    "\n",
    "output = None\n",
    "try:\n",
    "    sc = SparkContext(\"local\", \"Simple App\")\n",
    "    text_file = sc.textFile(\"wikicfp_crawl-txt.tsv\")\n",
    "    counts = text_file.map(lambda line: line.split(\"\\t\")) \\\n",
    "        .map(lambda row: (re.compile('\\d{4}').search(row[0]).group(0), [row[2]])) \\\n",
    "        .reduceByKey(lambda a, b: a + b) \\\n",
    "        .map(lambda pair: (pair[0], dict(Counter(pair[1])))) \\\n",
    "        .sortBy(lambda x: x[0])\n",
    "    \n",
    "    output = counts.collect()\n",
    "    print(output)\n",
    "finally:\n",
    "    sc.stop()"
   ]
  },
  {
   "cell_type": "markdown",
   "metadata": {},
   "source": [
    "Then I put all the cities (regardless of year) into a dictionary. This will be used to query coordinates for the eventual heatmap plotting."
   ]
  },
  {
   "cell_type": "code",
   "execution_count": 3,
   "metadata": {
    "scrolled": true
   },
   "outputs": [
    {
     "name": "stdout",
     "output_type": "stream",
     "text": [
      "[('Enschede, The Netherlands', 1), ('Hong Kong', 1), ('N/A', 1), ('Menlo Park, California, USA', 1), ('Seattle, Washington, USA', 7), ('Aizu-Wakamatsu, Japan', 1), ('Bangalore, Karnataka, India', 1), ('Bonn, Germany', 1), ('Vancouver, Canada', 2), ('Riga, Latvia', 1), ('Lisbon, Portugal', 2), ('Glasgow, Scotland, UK', 4), ('Kaohsiung, Taiwan', 1), ('Hsinchu City, Taiwan', 1), ('Berlin, Germany', 1), ('Beijing, China', 1), ('Milan, Italy', 1), ('Incheon, Korea', 1), ('Saint Petersburg, Russia', 1), ('Clermont-Ferrand, France', 1), ('Paris, France', 1), ('Varazdin, Croatia', 1), ('Dayton, Ohio, USA', 1), ('Toulouse, France', 2), ('Paphos, Cyprus', 1)]\n",
      "[('N/A', 1), ('Brussels, Belgium', 1), ('Salt Lake City, Utah, USA', 1), ('Pune, India', 1), ('Paphos, Cyprus', 2), ('Pittsburgh, Pennslyvania, USA', 1), ('Maui, Hawaii, USA', 5), ('Macau, China', 1), ('Rome, Italy', 8), ('Rabat, Morocco', 1), ('Bangkok, Thailand', 1), ('San Jose, California, USA', 1), ('Istanbul, Turkey', 7), ('Gaithersburg, MD USA', 1), ('São Paulo, Brazil', 1), ('Montpellier, France', 1), ('Seoul, South Korea', 1), ('Prague, Czech Republic', 1), ('Instabul, Turkey', 1), ('Poznan, Poland', 1), ('Harbin, China', 2), ('Florence, Italy', 2), ('Marburg, Germany', 1), ('Venice, Italy', 2), ('Almería, Spain', 1), ('Las Vegas, Nevada, USA', 1), ('Vienna, Austria', 3), ('Poitiers, France', 1), ('Chania, Crete, Greece', 3), ('Toronto, Ontario, Canada', 1), ('Vilnius, Lithuania', 2), ('Scottsdale, AZ, United States', 1), ('Scottsdale, Arizona, USA', 5), ('Moscow, Russia', 1), ('Nantes, France', 2), ('Ouro Preto, Brazil', 1), ('Montreal, Québec, Canada', 1), ('Ustron, Poland', 1), ('Cambridge, Massachusetts, USA', 1), ('Busan, South Korea', 1), ('Bangalore, Karnataka, India', 1), ('Gifu, Japan', 1), ('Cambridge, UK', 1), ('Washington D.C., USA', 5), ('Beijing, China', 1), ('Reunion Island, France', 1), ('Penang, Malaysia', 1), ('Kaohsiung, Taiwan', 1), ('Melbourne, Australia', 1), ('Berlin, Germany', 1), ('Burlingame, California, USA', 1), ('Lyon, France', 1)]\n",
      "[('N/A', 1), ('Zurich, Switzerland', 1), ('Rotterdam, Netherlands', 1), ('Kyoto, Japan', 1), ('Tumkur, India', 1), ('Kuala Lumpur, Malaysia', 3), ('Adelaide, South Australia, Australia', 1), ('Ahmedabad, India', 1), ('Łódź, Poland', 1), ('Dallas, Texas, USA', 2), ('Aksaray, Turkey', 1), ('San Jose, California, USA', 1), ('Washington D.C., USA', 1), ('San Francisco, California, USA', 3), ('Burlingame, California, USA', 1), ('Boston, Massachusetts, USA', 1), ('Veliko Tarnovo, Bulgaria', 1), ('Riva del Garda, Italy', 3), ('Trento, Italy', 3), ('Barcelona, Spain', 1), ('Beijing, China', 1), ('Sydney, Australia', 2), ('Graz, Austria', 1), ('Naiguatá, Venezuela', 4), ('Genoa, Italy', 9), ('Aalborg, Denmark', 1), ('Islamabad, Pakistan', 1), ('Prague, Czech Republic', 3), ('Amantea, Calabria, Italy', 1), ('Vancouver, Canada', 1), ('Roccella Ionica, Italy', 1), ('Koblenz, Germany', 1), ('New York City, New York, USA', 8), ('Mathematics in Computer Science', 1), ('Craiova, Romania', 1), ('Paris, France', 1), ('Oxford, UK', 2), ('Lago Di Garda, Trento, Italy', 1), ('Munich, Germany', 1), ('Opatija, Croatia', 1), ('Montreal, Québec, Canada', 1), ('Irbid, Jordan', 1), ('Santa Clara, California, USA', 1), ('Cholula, Puebla, Mexico', 1), ('Kazan, Russia', 1), ('Magdeburg, Germany', 1), ('Ustron, Poland', 1), ('Aizu-Wakamatsu, Japan', 1), ('Brisbane, Australia', 4), ('New York, USA', 1), ('Wuhan, Hubei, China', 1), ('Havana, Cuba', 1), ('Coimbra, Portugal', 2), ('Stuttgart, Germany', 1), ('Asilomar, California, USA', 1)]\n",
      "[('N/A', 2), ('Antwerp, Belgium', 1), ('Washington D.C., USA', 2), ('Hyderabad, India', 1), ('Kaohsiung, Taiwan', 1), ('London', 1), ('Odisha, India', 1), ('Shenzhen, China', 2), ('Amantea, Italy', 1), ('Ho Chi Minh City, Vietnam', 1), ('Haifa, Israel', 1), ('Hangzhou, China', 2), ('Los Cabos, Mexico', 1), ('Stuttgart, Germany', 1), ('Ohrid, Republic of Macedonia', 2), ('Oldenburg, Lower Saxony, Germany', 1), ('Curitiba, Brazil', 1), ('Cadiz, Spain', 1), ('Changsha, China', 1), ('Warsaw, Poland', 1), ('Songbird, Utah, USA', 1), ('Snowbird, Utah, USA', 8), ('Munich, Germany', 4), ('Sorrento Coast, Italy', 1), ('Macau, China', 1), ('Vienna, Austria', 1), ('Tallinn, Estonia', 2), ('Hasselt, Belgium', 1), ('Lisbon, Portugal', 1), ('Veliky Novgorod, Russia', 1), ('Brisbane, Australia', 2), ('Barcelona, Spain', 1), ('Irbid, Jordan', 1), ('Seoul, South Korea', 1), ('Ustron, Poland', 1), ('Aizu-Wakamatsu, Japan', 1), ('Chicago, Illinois, USA', 5), ('Athens, Greece', 6), ('Dubai, UAE', 1), ('Tainan, Taiwan', 1), ('Bordeaux, France', 1), ('Auckland, New Zealand', 1)]\n",
      "[('Atlantic City, NJ, USA', 2), ('Melbourne, Australia', 3), ('N/A', 2), ('Glasgow, UK', 1), ('Paris, France', 1), ('Quebec, Canada', 1), ('Poitiers, France', 2), ('Łódź, Poland', 1), ('Santa Fe, New Mexico, USA', 1), ('Seoul, South Korea', 1), ('Valencia, Spain', 1), ('Kohala Coast, Hawaii, USA', 1), ('London, UK', 1), ('Brussels, Belgium', 1), ('Amman, Jordan', 1), ('Ustron, Poland', 1), ('Hanoi, Vietnam', 1)]\n",
      "[('N/A', 4), ('Mashhad, Iran', 1), ('Online', 1), ('Washington D.C., USA', 3), ('Hamilton, New Zealand', 1), ('Quito, Ecuador', 1), ('Chengdu, Sichuan, China', 4), ('Athens, Greece', 1), ('Łódź, Poland', 1), ('Gran Canaria, Spain', 1), ('Barcelona, Spain', 5), ('Gold Coast, Australia', 1), ('Indianapolis, Indiana, USA', 1), ('California', 1), ('Milan, Italy', 1), ('Guayaquil, Ecuador', 1), ('Seoul, South Korea', 1), ('Stony Brook, New York, USA', 1), ('New Delhi, India', 2), ('Rio de Janeiro, Brazil', 1), ('Santa Clara, California, USA', 1), ('Tokyo, Japan', 1), ('Suzhou, China', 1), ('Brindisi, Italy', 1), ('Nörten-Hardenberg, Germany', 1), ('Gifu, Japan', 1), ('Riga, Latvia', 1), ('Ustron, Poland', 1), ('Dallas, Texas, USA', 1), ('Helsinki, Finland', 1), ('Pune, India', 1), ('San Francisco, California, USA', 1)]\n",
      "[('N/A', 24), ('Thessaloniki, Greece', 1), ('London, UK', 3), ('Boston, Massachusetts, USA', 8), ('Kansas City, Missouri, USA', 1), ('Jaipur, India', 4), ('Chengdu, Sichuan, China', 1), ('Singapore', 7), ('Redondo Beach, California, USA', 2), ('Helsinki, Finland', 2), ('Taipei, Taiwan', 2), ('Puebla, Mexico', 1), ('New Orleans, Louisiana, USA', 18), ('Kolkata, India', 2), ('Quito, Ecuador', 2), ('Austin, Texas, USA', 3), ('Rome, Italy', 1), ('Adelaide, Australia', 1), ('Bangkok, Thailand', 1), ('Seoul, South Korea', 4), ('India', 2), ('Deir El-Balah, Palestine', 1), ('Los Angeles, California, USA', 2), ('Skopje, Macedonia', 10), ('Halifax, Nova Scotia, Canada', 31), ('Hammamet, Tunisia', 2), ('Brunei', 3), ('Jalan Tungku Link, Mukim Gadong A, Brunei', 1), ('Xi’an, Shaanxia, China', 2), ('Chongqing, China', 1), ('Fukuoka, Japan', 3), ('Yokohama, Japan', 1), ('Guilin, Guanxi, China', 2), ('Genoa, Italy', 4), ('Astrophysical Journal - Supplement Serie', 1), ('Tokyo, Japan', 8), ('Kyoto, Japan', 3), ('Lund, Sweden', 1), ('Melbourne, Australia', 12), ('Hefei, China', 1), ('Druskininkai, Lithuania', 1), ('Valparaiso, Chile', 1), ('San Diego, California, USA', 6), ('Benicàssim, Spain', 2), ('Jakarta, Indonesia', 3), ('Moscow, Russia', 3), ('Las Vegas, Nevada, USA', 1), ('Vienna, Austria', 2), ('Leipzig, Germany', 1), ('Marseille, France', 1), ('Porto, Portugal', 5), ('Beijing, China', 7), ('Atlanta, GA, US', 2), ('San Francisco, California, USA', 3), ('Trieste, Italy', 3), ('Banff, Canada', 1), ('Lisbon, Portugal', 1), ('Vietnam', 1), ('Exeter, England', 2), ('Cairo, Egypt', 2), ('Olsztyn, Poland', 1), ('Emden, Germany', 1), ('Lyon, France', 2), ('Guangzhou, China', 2), ('Poznan, Poland', 1), ('TBD', 4), ('Indianapolis, Indiana, USA', 1), ('Madrid, Spain', 3), ('Galway, Ireland', 1), ('Raleigh, North Carolina, USA', 4), ('Naples, Italy', 1), ('Vilamoura, Algarve, Portugal', 3), ('Logroño, La Rioja, Spain', 1), ('La Rioja, Spain', 1), ('Warsaw, Poland', 2), ('São Paulo, Brazil', 1), ('Houston, Texas, USA', 1), ('Donostia, San Sebastián, Spain', 1), ('Perth, Australia', 4), ('Online', 1), ('Orlando, Florida, USA', 1), ('New York City, New York, USA', 1), ('Tianjin, China', 1), ('Mauritius', 1), ('Polanica Zdroj, Poland', 1), ('Gaza, Palestine', 1), ('Aberdeen, Scotland, UK', 1), ('Texas, USA', 1), ('Salzburg, Austria', 1), ('Belgaum, Goa', 1), ('Suzhou, China', 4), ('Arras, France', 1), ('Cambridge, Massachusetts, USA', 2), ('Ustron, Poland', 2), ('Barcelona, Spain', 2), ('Anchorage, Alaska, USA', 1), ('Madeira', 1), ('Marco Island, Florida, USA', 2), ('Cambridge, UK', 1), ('Toulouse, France', 1), ('Riga, Latvia', 1), ('Jeju Island, Korea', 1), ('Kanazawa, Japan', 2), ('Washington D.C., USA', 1), ('Marrakesh, Morocco', 2), ('Luxembourg', 2), ('Uberlandia, Minas Gerais, Brazil', 1), ('Chemnitz, Germany', 1), ('Mons, Belgium', 1), ('Nicosia, Cyprus', 2), ('Bristol, UK', 1), ('Hilton Hotel Cyprus, Nicosia', 1), ('Chicago, Illinois, USA', 1), ('Stuttgart, Germany', 1), ('Irvine, California, USA', 1), ('Long Beach, California, USA', 5), ('Lomé, Togo', 3), ('Napoli, Italy', 1), ('Europe', 1), ('Bloemfontein, South Africa', 1), ('Tampere, Finland', 1), ('Denver, Colorado, USA', 1), ('Changa, Anand, India', 2), ('Pisa, Italy', 1), ('Cancun, Mexico', 2), ('Liverpool, United Kingdom', 1), ('IDRBT, Hyderabad, India', 1), ('Ulyanovsk, Russia', 1), ('Dresden, Germany', 1), ('Venice, Italy', 2), ('Miami, Florida, USA', 1), ('Delft, The Netherlands', 1), ('Sydney, Australia', 2), ('Honolulu, Hawaii, USA', 2), ('Montreal, Québec, Canada', 2), ('Dalian, China', 1), ('Shanghai, China', 1), ('Gangtok, Sikkim, India', 1), ('Okinawa, Japan', 1), ('Cuba', 1), ('Graz, Austria', 1), ('Nanjing, China', 2), ('Bali, Indonesia', 1), ('Quebec City, Quebec, Canada', 2), ('Quebec, Canada', 1), ('Daegu, South Korea', 1), ('Tucson, Arizona, USA', 1), ('Reggio di Calabria, Italy', 3), ('Hangzhou, China', 1), ('Caen, France', 1), ('Roppongi, Tokyo, Japan', 1), ('Prague, Czech Republic', 2), ('Dubai, UAE', 1), ('Orléans, France', 1), ('Toronto, Ontario, Canada', 1), ('Vancouver, Canada', 1), ('Hawaii, USA', 1), ('Yangon, Myanmar', 1), ('Edmonton, Alberta', 1), ('Niagara Falls, New York, USA', 1), ('Saarbrücken, Germany', 1), ('Milan, Italy', 1), ('Copenhagen, Denmark', 1), ('Heraklion, Crete, Greece', 1), ('Winterthur, Switzerland', 1), ('Alghero, Sardinia, Italy', 1), ('Volterra, Tuscany, Italy', 1), ('Capri, Italy', 1), ('Timisoara, Romania', 1), ('Wuhan, Hubei, China', 1), ('Limassol, Cyprus', 1)]\n",
      "[('Dubai, UAE', 18), ('Taranto, Italy', 1), ('Vienna, Austria', 6), ('N/A', 124), ('South Carolina, USA', 1), ('Poznan, Poland', 6), ('Beijing, China', 13), ('Moscow, Russia', 2), ('Chennai, India', 9), ('Sydney, Australia', 18), ('Copenhagen, Denmark', 4), ('London, UK', 14), ('London', 7), ('Exeter, England', 1), ('Singapore', 24), ('Barcelona, Spain', 9), ('Lima, Peru', 3), ('Chongqing, China', 4), ('Chengdu, Sichuan, China', 20), ('Zakynthos, Greece', 1), ('Vilnius, Lithuania', 2), ('Weihai, China', 2), ('China', 5), ('Valencia, Spain', 1), ('Brunei', 1), ('Madrid, Spain', 3), ('Arlington, Texas, USA', 2), ('Essex, UK', 1), ('Cala Millor, Majorca, Spain', 1), ('Nagoya, Japan', 8), ('Berlin, Germany', 6), ('Valletta, Malta', 1), ('Bathurst, New South Wales, Australia', 3), ('Coimbra, Portugal', 2), ('Łódź, Poland', 1), ('Hong Kong', 10), ('Shanghai, China', 12), ('Belgrade, Serbia', 3), ('Las Vegas, Nevada, USA', 4), ('Melbourne, Australia', 10), ('Romania, Iasi', 1), ('Orléans, France', 2), ('Dublin, Ireland', 5), ('Bali, Indonesia', 2), ('Paderborn, Germany', 2), ('Crete, Greece', 1), ('New York, USA', 7), ('Brno, Czech Republic', 1), ('Hangzhou, China', 4), ('Guilin, Guanxi, China', 1), ('Bangkok, Thailand', 9), ('Athens, Greece', 5), ('France', 1), ('Marrakesh, Morocco', 7), ('Paris, France', 9), ('Guangzhou, China', 6), ('Gold Coast, Australia', 1), ('Porto, Portugal', 6), ('Shenzhen, China', 3), ('Jyvaskyla, Finland', 1), ('Thessaloniki, Greece', 4), ('Cologne, Germany', 1), ('Buffalo, New York, United', 2), ('Prague, Czech Republic', 4), ('Enschede, The Netherlands', 1), ('Macau, China', 7), ('Toledo, Spain', 5), ('San Diego, California, USA', 10), ('Florida, USA', 1), ('Rio de Janeiro, Brazil', 9), ('Olomouc, Czech Republic', 1), ('Grenoble, France', 3), ('Lyon, France', 9), ('Guiyang, China', 1), ('DeKalb, Illinois, USA', 2), ('Rhodes Island, Greece', 2), ('Honolulu, Hawaii, USA', 1), ('Istanbul, Turkey', 3), ('Riyadh, Saudi Arabia', 1), ('Bergamo, Italy', 1), ('Bamberg, Germany', 1), ('Los Angeles, California, USA', 5), ('Kolkata, India', 2), ('Melbourne, Florida, USA', 4), ('Funchal, Madeira, Portugal', 5), ('Casablanca, Morocco', 2), ('Dong Hoi City, Vietnam', 3), ('Pau, France', 3), ('Santiago, Chile', 3), ('Warsaw, Poland', 1), ('Bucarest, Romania', 1), ('Xi’an, Shaanxia, China', 5), ('Budapest, Hungary', 7), ('Cali, Colombia', 1), ('Athens', 2), ('Stockholm, Sweden', 23), ('Salt Lake City, Utah, USA', 10), ('Nottingham, UK', 2), ('Newcastle, UK', 1), ('Toulon, Cote D’Azur, France', 2), ('Hamburg, Germany', 3), ('Niagara Falls, Ontario, Canada', 1), ('Fragrance Hill, Beijing', 2), ('Leipzig, Germany', 2), ('island of Rhodes, Greece', 2), ('Union, New Jersey, USA', 2), ('São Paulo, Brazil', 2), ('Hanoi, Vietnam', 9), ('Guadalajara, Mexico', 4), ('Havana, Cuba', 4), ('Trujillo, Peru', 4), ('Torino, Italy', 2), ('Saint Petersburg, Russia', 3), ('Boulder, Colorado, USA', 1), ('Nanjing, China', 3), ('Granada, Spain', 1), ('Daegu, South Korea', 1), ('Santa Fe, Argentina', 2), ('Munich, Germany', 5), ('Chicago, Illinois, USA', 1), ('Anaheim, California, USA', 1), ('Tampere, Finland', 1), ('Zurich, Switzerland', 1), ('Pyrgos, Limassol, Cyprus', 1), ('Jeju Island, Korea', 4), ('Stuttgart, Germany', 1), ('Nairobi, Kenya', 2), ('Mazatlan, Sinaloa, México', 1), ('Bangalore, Karnataka, India', 1), ('Ho Chi Minh City, Vietnam', 3), ('Kosice', 2), ('Baltimore, Maryland, USA', 1), ('St. Louis, Missouri, USA', 1), ('Stanford, California, USA', 3), ('Tempe, Arizona, USA', 2), ('Natal, Brazil', 1), ('Salerno, Italy', 1), ('Tokyo, Japan', 5), ('Wroclaw, Poland', 2), ('Jinan, China', 4), ('Siena, Italy', 1), ('Volterra, Tuscany, Italy', 1), ('Oxford, UK', 3), ('Caen, France', 2), ('Kyoto, Japan', 4), ('Osaka, Japan', 2), ('Seattle, Washington, USA', 3), ('Brisbane, Australia', 3), ('Nanjing and Tai’an, China', 1), ('Maastricht, The Netherlands', 2), ('Montreal, Québec, Canada', 6), ('Monterey, California, USA', 5), ('Williamsburg, Virginia, USA', 5), ('New Orleans, Louisiana, USA', 6), ('Belfast, Northern Ireland, UK', 3), ('Online', 1), ('Calgary, Alberta, Canada', 1), ('Vancouver, Canada', 5), ('Ischia, Italy', 1), ('Stevenson, Washington, USA', 1), ('Chicago', 1), ('Pune, India', 1), ('Kenitra, Morocco', 1), ('Phuket Island, Thailand', 6), ('Campobasso, Italy', 1), ('Kalamata, Greece', 1), ('North Bethesda, Maryland, USA', 1), ('San Francisco, California, USA', 3), ('Liverpool, United Kingdom', 2), ('Rabat, Morocco', 2), ('St., Missouri, USA', 1), ('Naples, Italy', 2), ('Phuoc Island, Vietnam', 2), ('Valenciennes, France', 2), ('Kuantan, Malaysia', 2), ('Xiamen, China', 1), ('Bruges, Belgium', 2), ('Lausanne, Switzerland', 2), ('Zakopane, Poland', 2), ('New York City, New York, USA', 3), ('Lanzarote, Spain', 1), ('Playa Blanca, Lanzarote', 2), ('Cairo, Egypt', 1), ('Wuhan, Hubei, China', 3), ('Luxembourg', 3), ('Changchun, China', 1), ('Wellington, New Zealand', 1), ('Lanzhou, China', 1), ('Raitenhaslach, Germany', 1), ('Nice, France', 1), ('Basel, Switzerland', 1), ('Penang, Malaysia', 1), ('Sankt Augustin, Germany', 1), ('Bari, Italy', 1), ('Nha Trang, Vietnam', 1), ('Volos, Greece', 1), ('Changsha, China', 1), ('Luton, England', 1), ('Matsue, Japan', 1), ('Trento, Italy', 1), ('New Taipei City, Taiwan', 2), ('USA', 1), ('Laguna Hills, California, USA', 1), ('Mangalore, India', 2), ('Amsterdam, Netherlands', 3), ('Danang, Vietnam', 1), ('Bologna, Italy', 1), ('Ceske Budejovice, Czech Republic', 1), ('London and Singapore', 1), ('Cambridge, UK', 1), ('Galway, Ireland', 1), ('Kuala Lumpur, Malaysia', 4), ('Aqaba, Jordan', 1), ('Międzyzdroje, Poland', 1), ('Taormina-Sicily, Italy', 1), ('Bilbao', 1), ('Palermo, Sicily, Italy', 1), ('Genoa, Italy', 1), ('Hefei, China', 1), ('Bristol, UK', 2), ('Hotel Bangi-Putrajaya, Kuala Lumpur, Mal', 1), ('Caceres, Spain', 1), ('Tallinn, Estonia', 1), ('Edinburgh, UK', 1), ('Exeter, UK', 1), ('Bacau, Romania', 1), ('Salamanca, Spain', 1), ('Amiens, France', 1), ('Spokane, Washington, USA', 1), ('Rostov-on-Don, Russia', 1), ('Auckland, New Zealand', 1), ('Online and Tokyo, Japan', 1), ('Ottawa, Ontario, Canada', 1), ('Silchar, India', 1), ('Aldemar Amilia Mare, Rhodes', 1), ('Sheffield, UK', 1), ('Reggio di Calabria, Italy', 1), ('Minsk, Belarus', 1), ('Maldives', 1), ('Malaysia', 1), ('Chiang Mai, Thailand', 1), ('Krakow, Poland', 1), ('www.radioai.net', 1), ('Cadiz, Spain', 1), ('Delft, The Netherlands', 1), ('Porto Santo, Madeira, Portugal', 1), ('Manila, Philippines', 2), ('Merida, Mexico', 1), ('Vichy, France', 1)]\n",
      "[('Los Angeles, California, USA', 1), ('Amsterdam', 1), ('Salvador, Bahia, Brazil', 1), ('Guangzhou, China', 1), ('Da Lat, Vietnam', 2), ('Lille, France', 2), ('Concepción, Chile', 1), ('N/A', 2), ('Xiamen, China', 1)]\n"
     ]
    }
   ],
   "source": [
    "year_str = []\n",
    "years = []\n",
    "for i in output:\n",
    "    # year list\n",
    "    year_str.append(str(i[0]))\n",
    "    current_year = []\n",
    "    for j in i[1].items():\n",
    "        current_year.append(j)\n",
    "    years.append(current_year)\n",
    "    \n",
    "for i in years:\n",
    "    print(i)"
   ]
  },
  {
   "cell_type": "markdown",
   "metadata": {},
   "source": [
    "The following, to queries for coordinates using geopy."
   ]
  },
  {
   "cell_type": "code",
   "execution_count": 4,
   "metadata": {},
   "outputs": [],
   "source": [
    "locations = {}"
   ]
  },
  {
   "cell_type": "code",
   "execution_count": null,
   "metadata": {},
   "outputs": [],
   "source": [
    "from geopy.geocoders import Nominatim\n",
    "# from tqdm import tqdm_notebook\n",
    "geolocator = Nominatim(user_agent=\"audie\")\n",
    "# lon, lat, amount\n",
    "coordinates = [[], [], []] \n",
    "\n",
    "for conferences in years:\n",
    "    for c in conferences:\n",
    "        try:\n",
    "            location = geolocator.geocode(c[0], timeout=10)\n",
    "            if location is not None:\n",
    "                coordinates[0].append(location.longitude)\n",
    "                coordinates[1].append(location.latitude)\n",
    "                coordinates[2].append(c[2])\n",
    "        except:\n",
    "            exit(1)\n",
    "\n",
    "# while True:\n",
    "#     for city in cities:\n",
    "#         try:\n",
    "#             location = geolocator.geocode(city)\n",
    "#             if location is not None:\n",
    "#                 locations[city] = location\n",
    "#         except:\n",
    "#             print(\"Unable to get location for \" + city)\n",
    "#             cities.add(city) # In case of timeouts, the cities will still be queried for later\n",
    "#         time.sleep(1)\n",
    "#     break"
   ]
  },
  {
   "cell_type": "code",
   "execution_count": null,
   "metadata": {},
   "outputs": [],
   "source": [
    "locations # print and verify output"
   ]
  },
  {
   "cell_type": "markdown",
   "metadata": {},
   "source": [
    "Plot the maps. I used Basemap and Gall Sterographic Projection Maps."
   ]
  },
  {
   "cell_type": "code",
   "execution_count": null,
   "metadata": {},
   "outputs": [],
   "source": [
    "from mpl_toolkits.basemap import Basemap\n",
    "import numpy as np\n",
    "import matplotlib.pyplot as plt"
   ]
  },
  {
   "cell_type": "code",
   "execution_count": null,
   "metadata": {},
   "outputs": [],
   "source": [
    "for i in range(len(output)):\n",
    "    plt.figure(figsize=(20, 40))\n",
    "    m = Basemap(projection='gall',llcrnrlat=-90,urcrnrlat=90,\\\n",
    "                llcrnrlon=-180,urcrnrlon=180,resolution='c')\n",
    "    m.drawcoastlines()\n",
    "    # m.fillcontinents(lake_color='aqua')\n",
    "#     m.drawparallels(np.arange(-90.,91.,30.))\n",
    "#     m.drawmeridians(np.arange(-180.,181.,60.))\n",
    "    m.drawmapboundary(fill_color='white')\n",
    "    plt.title(\"Gall Stereographic Projection: Conference Heatmap for \" + str(output[i][0]))\n",
    "    m.scatter(coordinates[0], coordinates[1], s=[x * 25 for x in coordinates[i][2]])\n",
    "    plt.savefig(\"Conference Heatmap \" + str(output[i][0]) + '.png') #str(output[i][0]) is the year\n",
    "    plt.show()"
   ]
  },
  {
   "cell_type": "code",
   "execution_count": null,
   "metadata": {},
   "outputs": [],
   "source": []
  }
 ],
 "metadata": {
  "kernelspec": {
   "display_name": "Python 3",
   "language": "python",
   "name": "python3"
  },
  "language_info": {
   "codemirror_mode": {
    "name": "ipython",
    "version": 3
   },
   "file_extension": ".py",
   "mimetype": "text/x-python",
   "name": "python",
   "nbconvert_exporter": "python",
   "pygments_lexer": "ipython3",
   "version": "3.6.5"
  }
 },
 "nbformat": 4,
 "nbformat_minor": 2
}
